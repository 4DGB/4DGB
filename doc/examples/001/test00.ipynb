{
 "cells": [
  {
   "cell_type": "code",
   "execution_count": 1,
   "id": "1c117812",
   "metadata": {},
   "outputs": [],
   "source": [
    "## To make interactive plots uncomment this majic\n",
    "%matplotlib widget"
   ]
  },
  {
   "cell_type": "code",
   "execution_count": 2,
   "id": "608701fe-2b56-44e1-a403-848b864ac779",
   "metadata": {},
   "outputs": [],
   "source": [
    "## Load in needed mods\n",
    "\n",
    "import json, numpy as np, pandas as pd, functions as epi\n",
    "from pypac import PACSession\n",
    "from matplotlib import pyplot as plt\n",
    "\n",
    "\n",
    "\n",
    "## Define variables such as the url and port\n",
    "url = \"http://127.0.0.1\"\n",
    "port = \"8000\""
   ]
  },
  {
   "cell_type": "code",
   "execution_count": 3,
   "id": "5e506213-60be-4850-b1fb-e97d435e402c",
   "metadata": {},
   "outputs": [],
   "source": [
    "## Set segment ID\n",
    "segid = 0\n",
    "\n",
    "## Gather json_file\n",
    "json_file = epi.get_structure(url,port,segid)\n"
   ]
  },
  {
   "cell_type": "code",
   "execution_count": 4,
   "id": "a0f35e25-c16b-4df1-920e-a878bee163b1",
   "metadata": {},
   "outputs": [],
   "source": [
    "## Parse the json file into a list\n",
    "jdata = epi.parse_json(json_file)\n",
    "\n",
    "#list jdata\n",
    "#[segid, start, end, startid]"
   ]
  },
  {
   "cell_type": "code",
   "execution_count": 5,
   "id": "1bacb1a0",
   "metadata": {},
   "outputs": [
    {
     "data": {
      "application/vnd.jupyter.widget-view+json": {
       "model_id": "4d85f61afd934052a51086f6c51ce8c9",
       "version_major": 2,
       "version_minor": 0
      },
      "text/plain": [
       "Canvas(toolbar=Toolbar(toolitems=[('Home', 'Reset original view', 'home', 'home'), ('Back', 'Back to previous …"
      ]
     },
     "metadata": {},
     "output_type": "display_data"
    }
   ],
   "source": [
    "fig = plt.figure(figsize=(6,6))\n",
    "\n",
    "ax = fig.add_subplot(111, projection='3d')\n",
    "\n",
    "for i in jdata:\n",
    "    x = []\n",
    "    y = []\n",
    "    z = []\n",
    "    #start coordinates\n",
    "    x.append(i[1][0])\n",
    "    y.append(i[1][1])\n",
    "    z.append(i[1][2])\n",
    "    \n",
    "    #end coordinates\n",
    "    x.append(i[2][0])\n",
    "    y.append(i[2][1])\n",
    "    z.append(i[2][2])\n",
    "    \n",
    "    ax.scatter3D(xs = x, ys = y, zs = z, label= i[0])\n",
    "    ax.plot3D(x,y,z)\n",
    "    \n",
    "    \n",
    "ax.set_title(\"Structure\")\n",
    "\n",
    "ax.legend(loc='upper left')\n",
    "\n",
    "plt.show()\n",
    "\n",
    "#save the figure\n",
    "plt.savefig('structure.png',dpi=200,bbox_inches='tight')"
   ]
  },
  {
   "cell_type": "code",
   "execution_count": null,
   "id": "31a719ff",
   "metadata": {},
   "outputs": [],
   "source": []
  }
 ],
 "metadata": {
  "kernelspec": {
   "display_name": "Python 3",
   "language": "python",
   "name": "python3"
  },
  "language_info": {
   "codemirror_mode": {
    "name": "ipython",
    "version": 3
   },
   "file_extension": ".py",
   "mimetype": "text/x-python",
   "name": "python",
   "nbconvert_exporter": "python",
   "pygments_lexer": "ipython3",
   "version": "3.8.8"
  }
 },
 "nbformat": 4,
 "nbformat_minor": 5
}
